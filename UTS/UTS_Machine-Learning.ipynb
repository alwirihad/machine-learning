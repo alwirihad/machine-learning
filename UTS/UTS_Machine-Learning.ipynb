{
 "cells": [
  {
   "cell_type": "markdown",
   "id": "92e3b52c-b9db-4e9d-ba90-b42066712526",
   "metadata": {},
   "source": [
    "# UTS MACHINE LEARNING\n",
    "# Alwi Rihad\n",
    "# 20210801131"
   ]
  },
  {
   "cell_type": "markdown",
   "id": "a11707ca-7107-4433-a820-54092ade7e2c",
   "metadata": {},
   "source": [
    "# Import Library"
   ]
  },
  {
   "cell_type": "code",
   "execution_count": 1,
   "id": "1744720c-9a50-4d7f-b537-33440368bc0a",
   "metadata": {},
   "outputs": [],
   "source": [
    "import pandas as pd"
   ]
  },
  {
   "cell_type": "markdown",
   "id": "035fb5a5-78a0-48aa-89d2-1be680174c7f",
   "metadata": {},
   "source": [
    "# Data"
   ]
  },
  {
   "cell_type": "code",
   "execution_count": 2,
   "id": "2c56e569-e131-42e0-9443-7b835854e3f2",
   "metadata": {},
   "outputs": [],
   "source": [
    "data = {\n",
    "    \"HARI\": [\"Senin\", \"Selasa\", \"Rabu\", \"Kamis\", \"Jumat\", \"Sabtu\", \"Minggu\"],\n",
    "    \"DATANG\": [2, 3, 4, 1, 1, 5, 2],\n",
    "    \"BIAYA\": [30000*2, 35000*3, 25000*4, 15000*1, 20000*2, 30000*5, 35000*2],\n",
    "    \"MAHASISWA\": [\"Ani\", \"Budi\", \"Jono\", \"Lono\", \"Joni\", \"Ani\", \"Budi\"]\n",
    "}"
   ]
  },
  {
   "cell_type": "markdown",
   "id": "fbaa26da-cfc4-4673-aebe-23b3839d465d",
   "metadata": {},
   "source": [
    "# Membuat DataFrame"
   ]
  },
  {
   "cell_type": "code",
   "execution_count": 3,
   "id": "86c61b57-ef1b-4564-8c4a-c51c784f6232",
   "metadata": {},
   "outputs": [],
   "source": [
    "df = pd.DataFrame(data)"
   ]
  },
  {
   "cell_type": "markdown",
   "id": "92c93fbd-4f07-44c3-b8c4-e4268aa6ea41",
   "metadata": {},
   "source": [
    "# Rata-rata Mahasiswa datang pada minggu ini"
   ]
  },
  {
   "cell_type": "code",
   "execution_count": 5,
   "id": "9edf58b7-09de-4684-92d1-2628ae58f250",
   "metadata": {},
   "outputs": [
    {
     "name": "stdout",
     "output_type": "stream",
     "text": [
      "Rata-rata datang pada minggu ini:  2.5714285714285716\n"
     ]
    }
   ],
   "source": [
    "datang = df[\"DATANG\"].mean()\n",
    "print(\"Rata-rata datang pada minggu ini: \", datang)"
   ]
  },
  {
   "cell_type": "markdown",
   "id": "83f532f4-838e-4135-ac3e-bb2e189f6f5b",
   "metadata": {},
   "source": [
    "# Biaya Tertinggi"
   ]
  },
  {
   "cell_type": "code",
   "execution_count": 7,
   "id": "2e25aae9-28c5-467e-bf65-ed8820012052",
   "metadata": {},
   "outputs": [
    {
     "name": "stdout",
     "output_type": "stream",
     "text": [
      "Biaya tertinggi terjadi pada hari:  HARI          Sabtu\n",
      "DATANG            5\n",
      "BIAYA        150000\n",
      "MAHASISWA       Ani\n",
      "Name: 5, dtype: object\n"
     ]
    }
   ],
   "source": [
    "biaya = df.loc[df[\"BIAYA\"].idxmax()]\n",
    "print(\"Biaya tertinggi terjadi pada hari: \", biaya)"
   ]
  },
  {
   "cell_type": "markdown",
   "id": "0870d273-781a-4c2a-bce7-98c0a39280e3",
   "metadata": {},
   "source": [
    "# Biaya lebih dari 110.000"
   ]
  },
  {
   "cell_type": "code",
   "execution_count": 8,
   "id": "02f5b455-1098-4f05-9378-a86934f0f0f9",
   "metadata": {},
   "outputs": [
    {
     "name": "stdout",
     "output_type": "stream",
     "text": [
      "Hari dengan biaya lebih dari 110.000:     HARI  DATANG   BIAYA MAHASISWA\n",
      "5  Sabtu       5  150000       Ani\n"
     ]
    }
   ],
   "source": [
    "biayaLebih = df.loc[df[\"BIAYA\"]>110000]\n",
    "print(\"Hari dengan biaya lebih dari 110.000:\", biayaLebih)"
   ]
  },
  {
   "cell_type": "markdown",
   "id": "8edb100d-4fc0-45c1-8682-72ff8e7b3147",
   "metadata": {},
   "source": [
    "# Mahasiswa Paling sering datang ke kampus"
   ]
  },
  {
   "cell_type": "code",
   "execution_count": 9,
   "id": "3248ce9e-e430-41f6-a62c-dc7de26b3eb2",
   "metadata": {},
   "outputs": [
    {
     "name": "stdout",
     "output_type": "stream",
     "text": [
      "Mahasiswa yang paling banyak datang ke kampus: Ani\n"
     ]
    }
   ],
   "source": [
    "frekuensi_datang = df[\"MAHASISWA\"].value_counts()\n",
    "paling_banyak_datang = frekuensi_datang.idxmax()\n",
    "print(\"Mahasiswa yang paling banyak datang ke kampus:\", paling_banyak_datang)"
   ]
  },
  {
   "cell_type": "markdown",
   "id": "930bb079-d6dc-433b-b5eb-5c045b71440f",
   "metadata": {},
   "source": [
    "# Mahasiswa yang datang pada hari minggu"
   ]
  },
  {
   "cell_type": "code",
   "execution_count": 10,
   "id": "9d00e8e7-404e-41d7-a39b-4348773d727a",
   "metadata": {},
   "outputs": [
    {
     "name": "stdout",
     "output_type": "stream",
     "text": [
      "Mahasiswa yang datang pada hari Minggu: ['Budi']\n"
     ]
    }
   ],
   "source": [
    "datang_minggu = df[df[\"HARI\"] == \"Minggu\"][\"MAHASISWA\"].tolist()\n",
    "print(\"Mahasiswa yang datang pada hari Minggu:\", datang_minggu)"
   ]
  },
  {
   "cell_type": "markdown",
   "id": "a22d8466-143d-4fca-a9f5-1e9c6f8cc28b",
   "metadata": {},
   "source": [
    "# Biaya tertinggi dan terendah"
   ]
  },
  {
   "cell_type": "code",
   "execution_count": 11,
   "id": "4bbfd7c0-eaa6-4d8e-b57d-cf68cb8175da",
   "metadata": {},
   "outputs": [
    {
     "name": "stdout",
     "output_type": "stream",
     "text": [
      "Biaya tertinggi: 150000\n",
      "Biaya terendah: 15000\n"
     ]
    }
   ],
   "source": [
    "biaya_tertinggi = df[\"BIAYA\"].max()\n",
    "biaya_terendah = df[\"BIAYA\"].min()\n",
    "print(\"Biaya tertinggi:\", biaya_tertinggi)\n",
    "print(\"Biaya terendah:\", biaya_terendah)"
   ]
  },
  {
   "cell_type": "markdown",
   "id": "ec66241c-e013-44df-ae17-3f4db6ad9046",
   "metadata": {},
   "source": [
    "# Frekuensi datang tertinggi dan terendah"
   ]
  },
  {
   "cell_type": "code",
   "execution_count": 12,
   "id": "db1eb260-f3a1-4969-8bab-703d8669e386",
   "metadata": {},
   "outputs": [
    {
     "name": "stdout",
     "output_type": "stream",
     "text": [
      "Frekuensi datang tertinggi: 5\n",
      "Frekuensi datang terendah: 1\n"
     ]
    }
   ],
   "source": [
    "frekuensi_tertinggi = df[\"DATANG\"].max()\n",
    "frekuensi_terendah = df[\"DATANG\"].min()\n",
    "print(\"Frekuensi datang tertinggi:\", frekuensi_tertinggi)\n",
    "print(\"Frekuensi datang terendah:\", frekuensi_terendah)"
   ]
  },
  {
   "cell_type": "code",
   "execution_count": null,
   "id": "ba3045d4-69a5-44d0-b28c-0fe124358d87",
   "metadata": {},
   "outputs": [],
   "source": []
  }
 ],
 "metadata": {
  "kernelspec": {
   "display_name": "Python 3 (ipykernel)",
   "language": "python",
   "name": "python3"
  },
  "language_info": {
   "codemirror_mode": {
    "name": "ipython",
    "version": 3
   },
   "file_extension": ".py",
   "mimetype": "text/x-python",
   "name": "python",
   "nbconvert_exporter": "python",
   "pygments_lexer": "ipython3",
   "version": "3.12.3"
  }
 },
 "nbformat": 4,
 "nbformat_minor": 5
}
