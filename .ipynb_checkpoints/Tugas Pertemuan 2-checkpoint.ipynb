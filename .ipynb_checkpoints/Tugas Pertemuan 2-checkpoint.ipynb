{
 "cells": [
  {
   "cell_type": "markdown",
   "id": "cc232567-8261-4cb0-a5ab-4d711f729922",
   "metadata": {},
   "source": [
    "# Tugas Pertemuan 2"
   ]
  },
  {
   "cell_type": "markdown",
   "id": "4bd0dc0e-7ad5-4d46-963a-d43cce26ff7f",
   "metadata": {},
   "source": [
    "# Machine Learning"
   ]
  },
  {
   "cell_type": "markdown",
   "id": "9bfc1ced-a2eb-4b64-92e8-7689af6f27aa",
   "metadata": {},
   "source": [
    "# Soal 1"
   ]
  },
  {
   "cell_type": "code",
   "execution_count": 4,
   "id": "da7b0f24-283b-4b4c-8d74-1418170011a3",
   "metadata": {},
   "outputs": [
    {
     "name": "stdout",
     "output_type": "stream",
     "text": [
      "DATA DIRI\n",
      "Nama        :  Alwi Rihad\n",
      "NIM         :  20210801131\n",
      "Mata Kuliah :  Machine Learning\n"
     ]
    }
   ],
   "source": [
    "nama = \"Alwi Rihad\"\n",
    "NIM = \"20210801131\"\n",
    "mata_kuliah = \"Machine Learning\"\n",
    "\n",
    "print(\"DATA DIRI\")\n",
    "print(\"Nama        : \", nama)\n",
    "print(\"NIM         : \", NIM)\n",
    "print(\"Mata Kuliah : \",mata_kuliah)"
   ]
  },
  {
   "cell_type": "markdown",
   "id": "140b6156-762e-42ad-b706-748ce09e0dbc",
   "metadata": {},
   "source": [
    "# Soal 2"
   ]
  },
  {
   "cell_type": "code",
   "execution_count": 5,
   "id": "f3dd21fd-3b75-478e-b9b4-d24637a7d898",
   "metadata": {},
   "outputs": [
    {
     "name": "stdout",
     "output_type": "stream",
     "text": [
      "[[1, 2, 3], [4, 5, 6]]\n"
     ]
    }
   ],
   "source": [
    "matriksC = [[1,2,3],[4,5,6]]\n",
    "print(matriksC)"
   ]
  },
  {
   "cell_type": "markdown",
   "id": "e7a682f4-8c26-4a51-a139-10ae55b8c15b",
   "metadata": {},
   "source": [
    "# Soal 3"
   ]
  },
  {
   "cell_type": "code",
   "execution_count": 6,
   "id": "80bf0cc3-f340-4157-90d5-22588c6d0206",
   "metadata": {},
   "outputs": [
    {
     "name": "stdout",
     "output_type": "stream",
     "text": [
      "[[2, 2], [2, 2], [2, 2]]\n"
     ]
    }
   ],
   "source": [
    "# matriks ordo 3x2\n",
    "matriks = [[2,2], [2,2], [2,2]]\n",
    "print(matriks)"
   ]
  },
  {
   "cell_type": "markdown",
   "id": "e085c1cc-c7d4-43f0-8df3-465b07be2b2e",
   "metadata": {},
   "source": [
    "# Soal 4"
   ]
  },
  {
   "cell_type": "code",
   "execution_count": 7,
   "id": "212b2f51-df85-4bda-b02a-19172e26814a",
   "metadata": {},
   "outputs": [],
   "source": [
    "import numpy as np"
   ]
  },
  {
   "cell_type": "markdown",
   "id": "871f1069-8a08-4123-b2cc-265b5d57d0cd",
   "metadata": {},
   "source": [
    "# Soal 5"
   ]
  },
  {
   "cell_type": "code",
   "execution_count": 8,
   "id": "1172bb60-5ebf-4eb3-940e-8ecef5cbdcd4",
   "metadata": {},
   "outputs": [
    {
     "name": "stdout",
     "output_type": "stream",
     "text": [
      "[[ 0  1  2  3  4  5  6  7]\n",
      " [ 8  9 10 11 12 13 14 15]\n",
      " [16 17 18 19 20 21 22 23]\n",
      " [24 25 26 27 28 29 30 31]]\n"
     ]
    }
   ],
   "source": [
    "from numpy import *\n",
    "matriks = range(32)\n",
    "matriks = reshape(matriks, (4,8))\n",
    "print(matriks)"
   ]
  },
  {
   "cell_type": "markdown",
   "id": "2331526c-db5f-43c2-bdc4-0a3281311c55",
   "metadata": {},
   "source": [
    "# Soal 6"
   ]
  },
  {
   "cell_type": "code",
   "execution_count": 12,
   "id": "08a1e8a2-b1bf-43e9-ad0d-68d3bfc67b31",
   "metadata": {},
   "outputs": [
    {
     "name": "stdout",
     "output_type": "stream",
     "text": [
      "[[4 1 4 4 3 4 2 3 1 1 4 3 1 2 1 4 2 2 4 3 2 3 2 3 2 1 4 1 2 1]\n",
      " [2 1 4 1 1 3 2 4 1 3 3 1 4 2 2 2 4 1 4 1 2 4 3 3 1 4 2 2 3 2]\n",
      " [2 1 3 1 2 1 2 3 2 4 2 2 3 1 1 4 2 4 4 2 1 3 2 3 3 1 4 2 2 4]]\n"
     ]
    }
   ],
   "source": [
    "import numpy as np\n",
    "from numpy import *\n",
    "\n",
    "matriks = np.random.randint(1,5,(3,30))\n",
    "print(matriks)"
   ]
  }
 ],
 "metadata": {
  "kernelspec": {
   "display_name": "Python 3 (ipykernel)",
   "language": "python",
   "name": "python3"
  },
  "language_info": {
   "codemirror_mode": {
    "name": "ipython",
    "version": 3
   },
   "file_extension": ".py",
   "mimetype": "text/x-python",
   "name": "python",
   "nbconvert_exporter": "python",
   "pygments_lexer": "ipython3",
   "version": "3.10.7"
  }
 },
 "nbformat": 4,
 "nbformat_minor": 5
}
